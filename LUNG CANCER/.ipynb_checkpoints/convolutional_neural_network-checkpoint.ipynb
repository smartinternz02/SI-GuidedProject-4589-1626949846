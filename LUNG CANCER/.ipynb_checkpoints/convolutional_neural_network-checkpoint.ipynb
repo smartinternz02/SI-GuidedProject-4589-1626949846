{
 "cells": [
  {
   "cell_type": "markdown",
   "metadata": {
    "id": "3DR-eO17geWu"
   },
   "source": [
    "# Convolutional Neural Network"
   ]
  },
  {
   "cell_type": "markdown",
   "metadata": {
    "id": "EMefrVPCg-60"
   },
   "source": [
    "### Importing the libraries"
   ]
  },
  {
   "cell_type": "code",
   "execution_count": 1,
   "metadata": {
    "id": "sCV30xyVhFbE"
   },
   "outputs": [],
   "source": [
    "import tensorflow as tf\n",
    "from keras.preprocessing.image import ImageDataGenerator"
   ]
  },
  {
   "cell_type": "code",
   "execution_count": 2,
   "metadata": {
    "id": "FIleuCAjoFD8"
   },
   "outputs": [
    {
     "data": {
      "text/plain": [
       "'2.5.0'"
      ]
     },
     "execution_count": 2,
     "metadata": {},
     "output_type": "execute_result"
    }
   ],
   "source": [
    "tf.__version__"
   ]
  },
  {
   "cell_type": "markdown",
   "metadata": {
    "id": "oxQxCBWyoGPE"
   },
   "source": [
    "## Part 1 - Data Preprocessing"
   ]
  },
  {
   "cell_type": "markdown",
   "metadata": {
    "id": "MvE-heJNo3GG"
   },
   "source": [
    "### Preprocessing the Training set"
   ]
  },
  {
   "cell_type": "code",
   "execution_count": 3,
   "metadata": {
    "id": "0koUcJMJpEBD"
   },
   "outputs": [
    {
     "name": "stdout",
     "output_type": "stream",
     "text": [
      "Found 100 images belonging to 2 classes.\n"
     ]
    }
   ],
   "source": [
    "train_datagen = ImageDataGenerator(rescale = 1./255,\n",
    "                                   shear_range = 0.2,\n",
    "                                   zoom_range = 0.2,\n",
    "                                   horizontal_flip = True)\n",
    "training_set = train_datagen.flow_from_directory('E:/AI Project/LUNG CANCER/trainset',\n",
    "                                                 target_size = (64, 64),\n",
    "                                                 batch_size = 32,\n",
    "                                                 class_mode = 'binary')"
   ]
  },
  {
   "cell_type": "markdown",
   "metadata": {
    "id": "mrCMmGw9pHys"
   },
   "source": [
    "### Preprocessing the Test set"
   ]
  },
  {
   "cell_type": "code",
   "execution_count": 4,
   "metadata": {
    "id": "SH4WzfOhpKc3"
   },
   "outputs": [
    {
     "name": "stdout",
     "output_type": "stream",
     "text": [
      "Found 59 images belonging to 2 classes.\n"
     ]
    }
   ],
   "source": [
    "test_datagen = ImageDataGenerator(rescale = 1./255)\n",
    "test_set = test_datagen.flow_from_directory('E:/AI Project/LUNG CANCER/testset',\n",
    "                                            target_size = (64, 64),\n",
    "                                            batch_size = 32,\n",
    "                                            class_mode = 'binary')"
   ]
  },
  {
   "cell_type": "markdown",
   "metadata": {
    "id": "af8O4l90gk7B"
   },
   "source": [
    "## Part 2 - Building the CNN"
   ]
  },
  {
   "cell_type": "markdown",
   "metadata": {
    "id": "ces1gXY2lmoX"
   },
   "source": [
    "### Initialising the CNN"
   ]
  },
  {
   "cell_type": "code",
   "execution_count": 5,
   "metadata": {
    "id": "SAUt4UMPlhLS"
   },
   "outputs": [],
   "source": [
    "cnn = tf.keras.models.Sequential()"
   ]
  },
  {
   "cell_type": "markdown",
   "metadata": {
    "id": "u5YJj_XMl5LF"
   },
   "source": [
    "### Step 1 - Convolution"
   ]
  },
  {
   "cell_type": "code",
   "execution_count": 6,
   "metadata": {
    "id": "XPzPrMckl-hV"
   },
   "outputs": [],
   "source": [
    "cnn.add(tf.keras.layers.Conv2D(filters=32, kernel_size=3, activation='relu', input_shape=[64, 64, 3]))"
   ]
  },
  {
   "cell_type": "markdown",
   "metadata": {
    "id": "tf87FpvxmNOJ"
   },
   "source": [
    "### Step 2 - Pooling"
   ]
  },
  {
   "cell_type": "code",
   "execution_count": 7,
   "metadata": {
    "id": "ncpqPl69mOac"
   },
   "outputs": [],
   "source": [
    "cnn.add(tf.keras.layers.MaxPool2D(pool_size=2, strides=2))"
   ]
  },
  {
   "cell_type": "markdown",
   "metadata": {
    "id": "xaTOgD8rm4mU"
   },
   "source": [
    "### Adding a second convolutional layer"
   ]
  },
  {
   "cell_type": "code",
   "execution_count": 8,
   "metadata": {
    "id": "i_-FZjn_m8gk"
   },
   "outputs": [],
   "source": [
    "cnn.add(tf.keras.layers.Conv2D(filters=32, kernel_size=3, activation='relu'))\n",
    "cnn.add(tf.keras.layers.MaxPool2D(pool_size=2, strides=2))"
   ]
  },
  {
   "cell_type": "markdown",
   "metadata": {
    "id": "tmiEuvTunKfk"
   },
   "source": [
    "### Step 3 - Flattening"
   ]
  },
  {
   "cell_type": "code",
   "execution_count": 9,
   "metadata": {
    "id": "6AZeOGCvnNZn"
   },
   "outputs": [],
   "source": [
    "cnn.add(tf.keras.layers.Flatten())"
   ]
  },
  {
   "cell_type": "markdown",
   "metadata": {
    "id": "dAoSECOm203v"
   },
   "source": [
    "### Step 4 - Full Connection"
   ]
  },
  {
   "cell_type": "code",
   "execution_count": 10,
   "metadata": {
    "id": "8GtmUlLd26Nq"
   },
   "outputs": [],
   "source": [
    "cnn.add(tf.keras.layers.Dense(units=128, activation='relu'))"
   ]
  },
  {
   "cell_type": "markdown",
   "metadata": {
    "id": "yTldFvbX28Na"
   },
   "source": [
    "### Step 5 - Output Layer"
   ]
  },
  {
   "cell_type": "code",
   "execution_count": 11,
   "metadata": {
    "id": "1p_Zj1Mc3Ko_"
   },
   "outputs": [],
   "source": [
    "cnn.add(tf.keras.layers.Dense(units=1, activation='sigmoid'))"
   ]
  },
  {
   "cell_type": "markdown",
   "metadata": {
    "id": "D6XkI90snSDl"
   },
   "source": [
    "## Part 3 - Training the CNN"
   ]
  },
  {
   "cell_type": "markdown",
   "metadata": {
    "id": "vfrFQACEnc6i"
   },
   "source": [
    "### Compiling the CNN"
   ]
  },
  {
   "cell_type": "code",
   "execution_count": 12,
   "metadata": {
    "id": "NALksrNQpUlJ"
   },
   "outputs": [],
   "source": [
    "cnn.compile(optimizer = 'adam', loss = 'binary_crossentropy', metrics = ['accuracy'])"
   ]
  },
  {
   "cell_type": "markdown",
   "metadata": {
    "id": "ehS-v3MIpX2h"
   },
   "source": [
    "### Training the CNN on the Training set and evaluating it on the Test set"
   ]
  },
  {
   "cell_type": "code",
   "execution_count": 13,
   "metadata": {
    "id": "XUj1W4PJptta"
   },
   "outputs": [
    {
     "name": "stdout",
     "output_type": "stream",
     "text": [
      "Epoch 1/25\n",
      "4/4 [==============================] - 1s 211ms/step - loss: 0.7913 - accuracy: 0.6900 - val_loss: 0.5916 - val_accuracy: 0.8305\n",
      "Epoch 2/25\n",
      "4/4 [==============================] - 0s 104ms/step - loss: 0.6300 - accuracy: 0.7000 - val_loss: 0.5301 - val_accuracy: 0.8305\n",
      "Epoch 3/25\n",
      "4/4 [==============================] - 0s 100ms/step - loss: 0.6142 - accuracy: 0.7000 - val_loss: 0.5022 - val_accuracy: 0.8305\n",
      "Epoch 4/25\n",
      "4/4 [==============================] - 0s 76ms/step - loss: 0.6069 - accuracy: 0.7000 - val_loss: 0.5186 - val_accuracy: 0.8305\n",
      "Epoch 5/25\n",
      "4/4 [==============================] - 0s 83ms/step - loss: 0.6101 - accuracy: 0.7000 - val_loss: 0.5941 - val_accuracy: 0.8305\n",
      "Epoch 6/25\n",
      "4/4 [==============================] - 0s 85ms/step - loss: 0.6241 - accuracy: 0.7000 - val_loss: 0.5821 - val_accuracy: 0.8305\n",
      "Epoch 7/25\n",
      "4/4 [==============================] - 0s 86ms/step - loss: 0.6151 - accuracy: 0.7000 - val_loss: 0.4699 - val_accuracy: 0.8305\n",
      "Epoch 8/25\n",
      "4/4 [==============================] - 0s 90ms/step - loss: 0.6371 - accuracy: 0.7000 - val_loss: 0.4442 - val_accuracy: 0.8305\n",
      "Epoch 9/25\n",
      "4/4 [==============================] - 0s 106ms/step - loss: 0.5633 - accuracy: 0.7000 - val_loss: 0.5125 - val_accuracy: 0.8305\n",
      "Epoch 10/25\n",
      "4/4 [==============================] - 0s 98ms/step - loss: 0.5726 - accuracy: 0.7000 - val_loss: 0.4960 - val_accuracy: 0.8305\n",
      "Epoch 11/25\n",
      "4/4 [==============================] - 0s 84ms/step - loss: 0.5462 - accuracy: 0.7000 - val_loss: 0.4150 - val_accuracy: 0.8305\n",
      "Epoch 12/25\n",
      "4/4 [==============================] - 0s 108ms/step - loss: 0.5410 - accuracy: 0.7000 - val_loss: 0.4238 - val_accuracy: 0.8305\n",
      "Epoch 13/25\n",
      "4/4 [==============================] - 0s 86ms/step - loss: 0.5197 - accuracy: 0.7000 - val_loss: 0.4270 - val_accuracy: 0.8305\n",
      "Epoch 14/25\n",
      "4/4 [==============================] - 0s 84ms/step - loss: 0.5154 - accuracy: 0.7000 - val_loss: 0.4025 - val_accuracy: 0.8305\n",
      "Epoch 15/25\n",
      "4/4 [==============================] - 0s 85ms/step - loss: 0.4974 - accuracy: 0.7000 - val_loss: 0.4001 - val_accuracy: 0.8305\n",
      "Epoch 16/25\n",
      "4/4 [==============================] - 0s 79ms/step - loss: 0.4888 - accuracy: 0.7000 - val_loss: 0.4204 - val_accuracy: 0.8136\n",
      "Epoch 17/25\n",
      "4/4 [==============================] - 0s 80ms/step - loss: 0.4988 - accuracy: 0.7200 - val_loss: 0.4719 - val_accuracy: 0.8475\n",
      "Epoch 18/25\n",
      "4/4 [==============================] - 0s 91ms/step - loss: 0.5015 - accuracy: 0.7600 - val_loss: 0.4024 - val_accuracy: 0.8475\n",
      "Epoch 19/25\n",
      "4/4 [==============================] - 0s 76ms/step - loss: 0.4848 - accuracy: 0.7100 - val_loss: 0.3722 - val_accuracy: 0.8305\n",
      "Epoch 20/25\n",
      "4/4 [==============================] - 0s 71ms/step - loss: 0.4657 - accuracy: 0.7300 - val_loss: 0.4386 - val_accuracy: 0.8475\n",
      "Epoch 21/25\n",
      "4/4 [==============================] - 0s 70ms/step - loss: 0.4553 - accuracy: 0.7600 - val_loss: 0.4013 - val_accuracy: 0.7966\n",
      "Epoch 22/25\n",
      "4/4 [==============================] - 0s 79ms/step - loss: 0.5054 - accuracy: 0.7000 - val_loss: 0.3903 - val_accuracy: 0.8305\n",
      "Epoch 23/25\n",
      "4/4 [==============================] - 0s 86ms/step - loss: 0.4347 - accuracy: 0.7200 - val_loss: 0.4080 - val_accuracy: 0.7966\n",
      "Epoch 24/25\n",
      "4/4 [==============================] - 0s 94ms/step - loss: 0.4627 - accuracy: 0.7900 - val_loss: 0.4494 - val_accuracy: 0.8305\n",
      "Epoch 25/25\n",
      "4/4 [==============================] - 0s 70ms/step - loss: 0.4346 - accuracy: 0.8400 - val_loss: 0.3609 - val_accuracy: 0.8475\n"
     ]
    },
    {
     "data": {
      "text/plain": [
       "<tensorflow.python.keras.callbacks.History at 0x19eb3e65910>"
      ]
     },
     "execution_count": 13,
     "metadata": {},
     "output_type": "execute_result"
    }
   ],
   "source": [
    "cnn.fit(x = training_set, validation_data = test_set, epochs = 25)"
   ]
  },
  {
   "cell_type": "markdown",
   "metadata": {
    "id": "U3PZasO0006Z"
   },
   "source": [
    "## Part 4 - Making a single prediction"
   ]
  },
  {
   "cell_type": "code",
   "execution_count": null,
   "metadata": {
    "id": "gsSiWEJY1BPB"
   },
   "outputs": [],
   "source": [
    "import numpy as np\n",
    "from keras.preprocessing import image\n",
    "test_image = image.load_img('dataset/single_prediction/cat_or_dog_1.jpg', target_size = (64, 64))\n",
    "test_image = image.img_to_array(test_image)\n",
    "test_image = np.expand_dims(test_image, axis = 0)\n",
    "result = cnn.predict(test_image)\n",
    "training_set.class_indices\n",
    "if result[0][0] == 1:\n",
    "  prediction = 'dog'\n",
    "else:\n",
    "  prediction = 'cat'"
   ]
  },
  {
   "cell_type": "code",
   "execution_count": null,
   "metadata": {
    "id": "ED9KB3I54c1i"
   },
   "outputs": [],
   "source": [
    "print(prediction)"
   ]
  }
 ],
 "metadata": {
  "colab": {
   "collapsed_sections": [],
   "name": "convolutional_neural_network.ipynb",
   "provenance": [],
   "toc_visible": true
  },
  "kernelspec": {
   "display_name": "Python 3",
   "language": "python",
   "name": "python3"
  },
  "language_info": {
   "codemirror_mode": {
    "name": "ipython",
    "version": 3
   },
   "file_extension": ".py",
   "mimetype": "text/x-python",
   "name": "python",
   "nbconvert_exporter": "python",
   "pygments_lexer": "ipython3",
   "version": "3.8.8"
  }
 },
 "nbformat": 4,
 "nbformat_minor": 1
}
