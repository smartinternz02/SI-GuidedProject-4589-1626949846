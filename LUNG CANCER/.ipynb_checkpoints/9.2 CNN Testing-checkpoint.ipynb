{
 "cells": [
  {
   "cell_type": "code",
   "execution_count": 8,
   "id": "e56fb412",
   "metadata": {},
   "outputs": [],
   "source": [
    "from tensorflow.keras.models import load_model\n",
    "from tensorflow.keras.preprocessing import image\n",
    "import numpy as np"
   ]
  },
  {
   "cell_type": "code",
   "execution_count": 10,
   "id": "2f6e0c72",
   "metadata": {},
   "outputs": [],
   "source": [
    "model = load_model(r\"animal.h5\")"
   ]
  },
  {
   "cell_type": "code",
   "execution_count": 18,
   "id": "563b1efb",
   "metadata": {},
   "outputs": [],
   "source": [
    "img  = image.load_img(\"elephant.jpg\", target_size = (64,64))"
   ]
  },
  {
   "cell_type": "code",
   "execution_count": 19,
   "id": "bc211e3b",
   "metadata": {},
   "outputs": [
    {
     "data": {
      "text/plain": [
       "PIL.Image.Image"
      ]
     },
     "execution_count": 19,
     "metadata": {},
     "output_type": "execute_result"
    }
   ],
   "source": [
    "type(img)"
   ]
  },
  {
   "cell_type": "code",
   "execution_count": 20,
   "id": "420114b5",
   "metadata": {},
   "outputs": [],
   "source": [
    "#convert img to array\n",
    "\n",
    "x = image.img_to_array(img)"
   ]
  },
  {
   "cell_type": "code",
   "execution_count": 21,
   "id": "284e1a3a",
   "metadata": {},
   "outputs": [
    {
     "data": {
      "text/plain": [
       "numpy.ndarray"
      ]
     },
     "execution_count": 21,
     "metadata": {},
     "output_type": "execute_result"
    }
   ],
   "source": [
    "type(x)"
   ]
  },
  {
   "cell_type": "code",
   "execution_count": 22,
   "id": "9841d5d2",
   "metadata": {},
   "outputs": [
    {
     "name": "stderr",
     "output_type": "stream",
     "text": [
      "Clipping input data to the valid range for imshow with RGB data ([0..1] for floats or [0..255] for integers).\n"
     ]
    },
    {
     "data": {
      "text/plain": [
       "<module 'matplotlib.pyplot' from 'C:\\\\Users\\\\Prishita\\\\anaconda3\\\\lib\\\\site-packages\\\\matplotlib\\\\pyplot.py'>"
      ]
     },
     "execution_count": 22,
     "metadata": {},
     "output_type": "execute_result"
    },
    {
     "data": {
      "image/png": "[encoded data removed]",
      "text/plain": [
       "<Figure size 432x288 with 1 Axes>"
      ]
     },
     "metadata": {
      "needs_background": "light"
     },
     "output_type": "display_data"
    }
   ],
   "source": [
    "import matplotlib.pyplot as plt\n",
    "plt.imshow(x)\n",
    "plt"
   ]
  },
  {
   "cell_type": "raw",
   "id": "27daae07",
   "metadata": {},
   "source": [
    "import cv2\n",
    "cv2.imshow(\"abc\",x)\n",
    "cv2.WaitKey(0)\n",
    "cv2.destroyAllWindows()"
   ]
  },
  {
   "cell_type": "code",
   "execution_count": 23,
   "id": "34d397f9",
   "metadata": {},
   "outputs": [],
   "source": [
    "x = np.expand_dims(x,axis = 0) #expanding to 4d bcoz argmax needs it"
   ]
  },
  {
   "cell_type": "code",
   "execution_count": 24,
   "id": "48b180d9",
   "metadata": {},
   "outputs": [],
   "source": [
    "pred = np.argmax(model.predict(x))"
   ]
  },
  {
   "cell_type": "code",
   "execution_count": 25,
   "id": "83032c5e",
   "metadata": {},
   "outputs": [
    {
     "data": {
      "text/plain": [
       "2"
      ]
     },
     "execution_count": 25,
     "metadata": {},
     "output_type": "execute_result"
    }
   ],
   "source": [
    "pred"
   ]
  },
  {
   "cell_type": "code",
   "execution_count": 26,
   "id": "1b0d4dfb",
   "metadata": {},
   "outputs": [
    {
     "data": {
      "text/plain": [
       "'elephants'"
      ]
     },
     "execution_count": 26,
     "metadata": {},
     "output_type": "execute_result"
    }
   ],
   "source": [
    "index = ['bears','crows','elephants','racoons','rats']\n",
    "prediction = index[pred]\n",
    "prediction"
   ]
  },
  {
   "cell_type": "code",
   "execution_count": null,
   "id": "df4c6a73",
   "metadata": {},
   "outputs": [],
   "source": []
  }
 ],
 "metadata": {
  "kernelspec": {
   "display_name": "Python 3",
   "language": "python",
   "name": "python3"
  },
  "language_info": {
   "codemirror_mode": {
    "name": "ipython",
    "version": 3
   },
   "file_extension": ".py",
   "mimetype": "text/x-python",
   "name": "python",
   "nbconvert_exporter": "python",
   "pygments_lexer": "ipython3",
   "version": "3.8.8"
  }
 },
 "nbformat": 4,
 "nbformat_minor": 5
}
