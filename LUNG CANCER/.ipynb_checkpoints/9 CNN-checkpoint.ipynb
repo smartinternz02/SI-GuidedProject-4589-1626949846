{
 "cells": [
  {
   "cell_type": "markdown",
   "id": "4386e4e5",
   "metadata": {},
   "source": [
    "# CNN"
   ]
  },
  {
   "cell_type": "raw",
   "id": "12511222",
   "metadata": {},
   "source": [
    "CNN - CONVOLUTION NEURAL NETWORK\n",
    "\n",
    "for image processing and image classification\n",
    "pictures are denoted with the help of pixels\n",
    "\n",
    "-Binary images - like a cartoon, values are b/w 0 and 1\n",
    "-Gray scale image - values are b/w 0 to 255\n",
    "-Colored images - 3 channels: RGB (0-255,0-255,0-255)\n",
    "\n",
    "3 layers:\n",
    "-Convolution layer\n",
    ".\n",
    ".\n",
    ".\n",
    ".\n",
    "\n",
    "Fully connected layers:\n",
    "-flattening layer\n",
    "-hidden layers\n",
    "-output layer\n"
   ]
  },
  {
   "cell_type": "raw",
   "id": "0a7dbe66",
   "metadata": {},
   "source": [
    "Steps:\n",
    "\n",
    "1. import the libraries\n",
    "2. image preprocessing\n",
    "        data augmentation\n",
    "3. initialize the model\n",
    "4. add convolution layer( imagesize(pixels), how many features, what is the size of feature detector)\n",
    "5. add pooling layer\n",
    "6. add flatten layer\n",
    "7. this gives the input layer\n",
    "8. add hidden layer\n",
    "9. add output layer\n",
    "10. compile the process\n",
    "11. train the data\n",
    "12. save the model\n",
    "13. test the model\n",
    "        1. import libraries\n",
    "        2. load the model\n",
    "        3. load the image\n",
    "        4. convert image to cnn architecture\n",
    "        5. predict the image"
   ]
  },
  {
   "cell_type": "raw",
   "id": "ff4ac4a1",
   "metadata": {},
   "source": [
    "Eg: object detection - 4(chairs,tables,pens,fans)\n",
    "collect the images min.100\n",
    "\n",
    "chairs- 100\n",
    "pens-100\n",
    "tables-100\n",
    "fans-100\n",
    "\n",
    "main folder-> test  -> 30% of the images\n",
    "              train -> 70% of the images\n",
    "              \n",
    "Categorical : more than 2 classes  \n",
    "Binary : 2 classes"
   ]
  },
  {
   "cell_type": "code",
   "execution_count": 1,
   "id": "618dc6b6",
   "metadata": {},
   "outputs": [],
   "source": [
    "from tensorflow.keras.models import Sequential\n",
    "from tensorflow.keras.layers import Dense, Convolution2D, MaxPooling2D, Flatten\n"
   ]
  },
  {
   "cell_type": "code",
   "execution_count": 2,
   "id": "9b259631",
   "metadata": {},
   "outputs": [],
   "source": [
    "#augmenting (rotating/rescaling the images) the images by applying some more features and rescaling\n",
    "#eg: 3 images 10 train so 30 images\n",
    "from tensorflow.keras.preprocessing .image import ImageDataGenerator\n",
    "\n",
    "#each image undergoes 3 transformations. shear=distorted in diff. angles like streching\n",
    "\n",
    "train_datagen = ImageDataGenerator(rescale = 1./255, shear_range = 0.2, zoom_range = 0.2, horizontal_flip = True)\n",
    "test_datagen = ImageDataGenerator(rescale = 1./255)"
   ]
  },
  {
   "cell_type": "code",
   "execution_count": 3,
   "id": "091755bf",
   "metadata": {},
   "outputs": [
    {
     "name": "stdout",
     "output_type": "stream",
     "text": [
      "Found 100 images belonging to 2 classes.\n"
     ]
    },
    {
     "ename": "FileNotFoundError",
     "evalue": "[WinError 3] The system cannot find the path specified: 'E:\\\\AI Project\\\\LUNG CANCER\\\\testset'",
     "output_type": "error",
     "traceback": [
      "\u001b[1;31m---------------------------------------------------------------------------\u001b[0m",
      "\u001b[1;31mFileNotFoundError\u001b[0m                         Traceback (most recent call last)",
      "\u001b[1;32m<ipython-input-3-667037aad50d>\u001b[0m in \u001b[0;36m<module>\u001b[1;34m\u001b[0m\n\u001b[0;32m      1\u001b[0m \u001b[0mx_train\u001b[0m \u001b[1;33m=\u001b[0m \u001b[0mtrain_datagen\u001b[0m\u001b[1;33m.\u001b[0m\u001b[0mflow_from_directory\u001b[0m\u001b[1;33m(\u001b[0m\u001b[1;34mr'E:\\AI Project\\LUNG CANCER\\trainset'\u001b[0m\u001b[1;33m,\u001b[0m\u001b[0mtarget_size\u001b[0m \u001b[1;33m=\u001b[0m \u001b[1;33m(\u001b[0m\u001b[1;36m64\u001b[0m\u001b[1;33m,\u001b[0m\u001b[1;36m64\u001b[0m\u001b[1;33m)\u001b[0m\u001b[1;33m,\u001b[0m\u001b[0mbatch_size\u001b[0m \u001b[1;33m=\u001b[0m \u001b[1;36m32\u001b[0m\u001b[1;33m,\u001b[0m\u001b[0mclass_mode\u001b[0m \u001b[1;33m=\u001b[0m \u001b[1;34m'categorical'\u001b[0m\u001b[1;33m)\u001b[0m\u001b[1;33m\u001b[0m\u001b[1;33m\u001b[0m\u001b[0m\n\u001b[1;32m----> 2\u001b[1;33m \u001b[0mx_test\u001b[0m \u001b[1;33m=\u001b[0m \u001b[0mtest_datagen\u001b[0m\u001b[1;33m.\u001b[0m\u001b[0mflow_from_directory\u001b[0m\u001b[1;33m(\u001b[0m\u001b[1;34mr'E:\\AI Project\\LUNG CANCER\\testset'\u001b[0m\u001b[1;33m,\u001b[0m\u001b[0mtarget_size\u001b[0m \u001b[1;33m=\u001b[0m \u001b[1;33m(\u001b[0m\u001b[1;36m64\u001b[0m\u001b[1;33m,\u001b[0m\u001b[1;36m64\u001b[0m\u001b[1;33m)\u001b[0m\u001b[1;33m,\u001b[0m\u001b[0mbatch_size\u001b[0m \u001b[1;33m=\u001b[0m \u001b[1;36m32\u001b[0m\u001b[1;33m,\u001b[0m\u001b[0mclass_mode\u001b[0m \u001b[1;33m=\u001b[0m \u001b[1;34m'categorical'\u001b[0m\u001b[1;33m)\u001b[0m\u001b[1;33m\u001b[0m\u001b[1;33m\u001b[0m\u001b[0m\n\u001b[0m",
      "\u001b[1;32m~\\anaconda3\\lib\\site-packages\\tensorflow\\python\\keras\\preprocessing\\image.py\u001b[0m in \u001b[0;36mflow_from_directory\u001b[1;34m(self, directory, target_size, color_mode, classes, class_mode, batch_size, shuffle, seed, save_to_dir, save_prefix, save_format, follow_links, subset, interpolation)\u001b[0m\n\u001b[0;32m    956\u001b[0m             \u001b[1;32mand\u001b[0m\u001b[0;31m \u001b[0m\u001b[0;31m`\u001b[0m\u001b[0my\u001b[0m\u001b[0;31m`\u001b[0m \u001b[1;32mis\u001b[0m \u001b[0ma\u001b[0m \u001b[0mnumpy\u001b[0m \u001b[0marray\u001b[0m \u001b[0mof\u001b[0m \u001b[0mcorresponding\u001b[0m \u001b[0mlabels\u001b[0m\u001b[1;33m.\u001b[0m\u001b[1;33m\u001b[0m\u001b[1;33m\u001b[0m\u001b[0m\n\u001b[0;32m    957\u001b[0m     \"\"\"\n\u001b[1;32m--> 958\u001b[1;33m     return DirectoryIterator(\n\u001b[0m\u001b[0;32m    959\u001b[0m         \u001b[0mdirectory\u001b[0m\u001b[1;33m,\u001b[0m\u001b[1;33m\u001b[0m\u001b[1;33m\u001b[0m\u001b[0m\n\u001b[0;32m    960\u001b[0m         \u001b[0mself\u001b[0m\u001b[1;33m,\u001b[0m\u001b[1;33m\u001b[0m\u001b[1;33m\u001b[0m\u001b[0m\n",
      "\u001b[1;32m~\\anaconda3\\lib\\site-packages\\tensorflow\\python\\keras\\preprocessing\\image.py\u001b[0m in \u001b[0;36m__init__\u001b[1;34m(self, directory, image_data_generator, target_size, color_mode, classes, class_mode, batch_size, shuffle, seed, data_format, save_to_dir, save_prefix, save_format, follow_links, subset, interpolation, dtype)\u001b[0m\n\u001b[0;32m    374\u001b[0m         \u001b[0mdtype\u001b[0m \u001b[1;33m=\u001b[0m \u001b[0mbackend\u001b[0m\u001b[1;33m.\u001b[0m\u001b[0mfloatx\u001b[0m\u001b[1;33m(\u001b[0m\u001b[1;33m)\u001b[0m\u001b[1;33m\u001b[0m\u001b[1;33m\u001b[0m\u001b[0m\n\u001b[0;32m    375\u001b[0m       \u001b[0mkwargs\u001b[0m\u001b[1;33m[\u001b[0m\u001b[1;34m'dtype'\u001b[0m\u001b[1;33m]\u001b[0m \u001b[1;33m=\u001b[0m \u001b[0mdtype\u001b[0m\u001b[1;33m\u001b[0m\u001b[1;33m\u001b[0m\u001b[0m\n\u001b[1;32m--> 376\u001b[1;33m     super(DirectoryIterator, self).__init__(\n\u001b[0m\u001b[0;32m    377\u001b[0m         \u001b[0mdirectory\u001b[0m\u001b[1;33m,\u001b[0m \u001b[0mimage_data_generator\u001b[0m\u001b[1;33m,\u001b[0m\u001b[1;33m\u001b[0m\u001b[1;33m\u001b[0m\u001b[0m\n\u001b[0;32m    378\u001b[0m         \u001b[0mtarget_size\u001b[0m\u001b[1;33m=\u001b[0m\u001b[0mtarget_size\u001b[0m\u001b[1;33m,\u001b[0m\u001b[1;33m\u001b[0m\u001b[1;33m\u001b[0m\u001b[0m\n",
      "\u001b[1;32m~\\anaconda3\\lib\\site-packages\\keras_preprocessing\\image\\directory_iterator.py\u001b[0m in \u001b[0;36m__init__\u001b[1;34m(self, directory, image_data_generator, target_size, color_mode, classes, class_mode, batch_size, shuffle, seed, data_format, save_to_dir, save_prefix, save_format, follow_links, subset, interpolation, dtype)\u001b[0m\n\u001b[0;32m    113\u001b[0m         \u001b[1;32mif\u001b[0m \u001b[1;32mnot\u001b[0m \u001b[0mclasses\u001b[0m\u001b[1;33m:\u001b[0m\u001b[1;33m\u001b[0m\u001b[1;33m\u001b[0m\u001b[0m\n\u001b[0;32m    114\u001b[0m             \u001b[0mclasses\u001b[0m \u001b[1;33m=\u001b[0m \u001b[1;33m[\u001b[0m\u001b[1;33m]\u001b[0m\u001b[1;33m\u001b[0m\u001b[1;33m\u001b[0m\u001b[0m\n\u001b[1;32m--> 115\u001b[1;33m             \u001b[1;32mfor\u001b[0m \u001b[0msubdir\u001b[0m \u001b[1;32min\u001b[0m \u001b[0msorted\u001b[0m\u001b[1;33m(\u001b[0m\u001b[0mos\u001b[0m\u001b[1;33m.\u001b[0m\u001b[0mlistdir\u001b[0m\u001b[1;33m(\u001b[0m\u001b[0mdirectory\u001b[0m\u001b[1;33m)\u001b[0m\u001b[1;33m)\u001b[0m\u001b[1;33m:\u001b[0m\u001b[1;33m\u001b[0m\u001b[1;33m\u001b[0m\u001b[0m\n\u001b[0m\u001b[0;32m    116\u001b[0m                 \u001b[1;32mif\u001b[0m \u001b[0mos\u001b[0m\u001b[1;33m.\u001b[0m\u001b[0mpath\u001b[0m\u001b[1;33m.\u001b[0m\u001b[0misdir\u001b[0m\u001b[1;33m(\u001b[0m\u001b[0mos\u001b[0m\u001b[1;33m.\u001b[0m\u001b[0mpath\u001b[0m\u001b[1;33m.\u001b[0m\u001b[0mjoin\u001b[0m\u001b[1;33m(\u001b[0m\u001b[0mdirectory\u001b[0m\u001b[1;33m,\u001b[0m \u001b[0msubdir\u001b[0m\u001b[1;33m)\u001b[0m\u001b[1;33m)\u001b[0m\u001b[1;33m:\u001b[0m\u001b[1;33m\u001b[0m\u001b[1;33m\u001b[0m\u001b[0m\n\u001b[0;32m    117\u001b[0m                     \u001b[0mclasses\u001b[0m\u001b[1;33m.\u001b[0m\u001b[0mappend\u001b[0m\u001b[1;33m(\u001b[0m\u001b[0msubdir\u001b[0m\u001b[1;33m)\u001b[0m\u001b[1;33m\u001b[0m\u001b[1;33m\u001b[0m\u001b[0m\n",
      "\u001b[1;31mFileNotFoundError\u001b[0m: [WinError 3] The system cannot find the path specified: 'E:\\\\AI Project\\\\LUNG CANCER\\\\testset'"
     ]
    }
   ],
   "source": [
    "x_train = train_datagen.flow_from_directory(r'E:\\AI Project\\LUNG CANCER\\trainset',target_size = (64,64),batch_size = 32,class_mode = 'categorical')\n",
    "x_test = test_datagen.flow_from_directory(r'E:\\AI Project\\LUNG CANCER\\testset',target_size = (64,64),batch_size = 32,class_mode = 'categorical')\n"
   ]
  },
  {
   "cell_type": "code",
   "execution_count": 4,
   "id": "144f74b6",
   "metadata": {},
   "outputs": [
    {
     "data": {
      "text/plain": [
       "{'bears': 0, 'crows': 1, 'elephants': 2, 'racoons': 3, 'rats': 4}"
      ]
     },
     "execution_count": 4,
     "metadata": {},
     "output_type": "execute_result"
    }
   ],
   "source": [
    "x_train.class_indices"
   ]
  },
  {
   "cell_type": "code",
   "execution_count": 5,
   "id": "0998d4ca",
   "metadata": {},
   "outputs": [],
   "source": [
    "model = Sequential()"
   ]
  },
  {
   "cell_type": "code",
   "execution_count": 6,
   "id": "107855b1",
   "metadata": {},
   "outputs": [],
   "source": [
    "model.add(Convolution2D(32,(3,3),input_shape = (64,64,3)))"
   ]
  },
  {
   "cell_type": "code",
   "execution_count": 7,
   "id": "8a0d6270",
   "metadata": {},
   "outputs": [],
   "source": [
    "model.add(MaxPooling2D((2,2)))"
   ]
  },
  {
   "cell_type": "code",
   "execution_count": 8,
   "id": "9023f38c",
   "metadata": {},
   "outputs": [],
   "source": [
    "model.add(Flatten())"
   ]
  },
  {
   "cell_type": "code",
   "execution_count": 9,
   "id": "12a5ce26",
   "metadata": {},
   "outputs": [],
   "source": [
    "model.add(Dense(units = 128, kernel_initializer = \"random_uniform\", activation = \"relu\"))  #128 is randomly taken"
   ]
  },
  {
   "cell_type": "code",
   "execution_count": 10,
   "id": "025897ab",
   "metadata": {},
   "outputs": [],
   "source": [
    "model.add(Dense(units = 5, kernel_initializer = \"random_uniform\", activation = \"softmax\"))"
   ]
  },
  {
   "cell_type": "code",
   "execution_count": 11,
   "id": "69c8306f",
   "metadata": {},
   "outputs": [],
   "source": [
    "model.compile(optimizer = \"adam\",loss = \"categorical_crossentropy\",metrics = [\"accuracy\"])"
   ]
  },
  {
   "cell_type": "code",
   "execution_count": 12,
   "id": "2e2dbb2e",
   "metadata": {},
   "outputs": [
    {
     "name": "stderr",
     "output_type": "stream",
     "text": [
      "C:\\Users\\Prishita\\anaconda3\\lib\\site-packages\\tensorflow\\python\\keras\\engine\\training.py:1940: UserWarning: `Model.fit_generator` is deprecated and will be removed in a future version. Please use `Model.fit`, which supports generators.\n",
      "  warnings.warn('`Model.fit_generator` is deprecated and '\n"
     ]
    },
    {
     "name": "stdout",
     "output_type": "stream",
     "text": [
      "Epoch 1/30\n",
      "46/46 [==============================] - 7s 148ms/step - loss: 1.6283 - accuracy: 0.3076 - val_loss: 1.2636 - val_accuracy: 0.5312\n",
      "Epoch 2/30\n",
      "46/46 [==============================] - 7s 153ms/step - loss: 1.2800 - accuracy: 0.4812 - val_loss: 1.1271 - val_accuracy: 0.5375\n",
      "Epoch 3/30\n",
      "46/46 [==============================] - 7s 160ms/step - loss: 1.1203 - accuracy: 0.5598 - val_loss: 0.9653 - val_accuracy: 0.6172\n",
      "Epoch 4/30\n",
      "46/46 [==============================] - 8s 180ms/step - loss: 1.0211 - accuracy: 0.6056 - val_loss: 1.1426 - val_accuracy: 0.5688\n",
      "Epoch 5/30\n",
      "46/46 [==============================] - 8s 177ms/step - loss: 0.9483 - accuracy: 0.6507 - val_loss: 0.8267 - val_accuracy: 0.6750\n",
      "Epoch 6/30\n",
      "46/46 [==============================] - 9s 184ms/step - loss: 0.8761 - accuracy: 0.6767 - val_loss: 0.7235 - val_accuracy: 0.7219\n",
      "Epoch 7/30\n",
      "46/46 [==============================] - 9s 195ms/step - loss: 0.7966 - accuracy: 0.7020 - val_loss: 0.5552 - val_accuracy: 0.7984\n",
      "Epoch 8/30\n",
      "46/46 [==============================] - 9s 200ms/step - loss: 0.7228 - accuracy: 0.7225 - val_loss: 0.8974 - val_accuracy: 0.6250\n",
      "Epoch 9/30\n",
      "46/46 [==============================] - 9s 202ms/step - loss: 0.6829 - accuracy: 0.7471 - val_loss: 0.6540 - val_accuracy: 0.7594\n",
      "Epoch 10/30\n",
      "46/46 [==============================] - 8s 184ms/step - loss: 0.6189 - accuracy: 0.7724 - val_loss: 0.4771 - val_accuracy: 0.8266\n",
      "Epoch 11/30\n",
      "46/46 [==============================] - 9s 202ms/step - loss: 0.5397 - accuracy: 0.8141 - val_loss: 0.4235 - val_accuracy: 0.8469\n",
      "Epoch 12/30\n",
      "46/46 [==============================] - 9s 200ms/step - loss: 0.5012 - accuracy: 0.8257 - val_loss: 0.5056 - val_accuracy: 0.8016\n",
      "Epoch 13/30\n",
      "46/46 [==============================] - 8s 178ms/step - loss: 0.4175 - accuracy: 0.8578 - val_loss: 0.3227 - val_accuracy: 0.8859\n",
      "Epoch 14/30\n",
      "46/46 [==============================] - 8s 179ms/step - loss: 0.3839 - accuracy: 0.8749 - val_loss: 0.2381 - val_accuracy: 0.9406\n",
      "Epoch 15/30\n",
      "46/46 [==============================] - 8s 178ms/step - loss: 0.3371 - accuracy: 0.8934 - val_loss: 0.2295 - val_accuracy: 0.9266\n",
      "Epoch 16/30\n",
      "46/46 [==============================] - 8s 177ms/step - loss: 0.3068 - accuracy: 0.9077 - val_loss: 0.2120 - val_accuracy: 0.9266\n",
      "Epoch 17/30\n",
      "46/46 [==============================] - 8s 179ms/step - loss: 0.2748 - accuracy: 0.9200 - val_loss: 0.2752 - val_accuracy: 0.8922\n",
      "Epoch 18/30\n",
      "46/46 [==============================] - 8s 177ms/step - loss: 0.2392 - accuracy: 0.9193 - val_loss: 0.2196 - val_accuracy: 0.9312\n",
      "Epoch 19/30\n",
      "46/46 [==============================] - 8s 176ms/step - loss: 0.2180 - accuracy: 0.9378 - val_loss: 0.1623 - val_accuracy: 0.9641\n",
      "Epoch 20/30\n",
      "46/46 [==============================] - 8s 180ms/step - loss: 0.1868 - accuracy: 0.9460 - val_loss: 0.1090 - val_accuracy: 0.9688\n",
      "Epoch 21/30\n",
      "46/46 [==============================] - 8s 178ms/step - loss: 0.1708 - accuracy: 0.9453 - val_loss: 0.1276 - val_accuracy: 0.9656\n",
      "Epoch 22/30\n",
      "46/46 [==============================] - 8s 177ms/step - loss: 0.1655 - accuracy: 0.9569 - val_loss: 0.0932 - val_accuracy: 0.9672\n",
      "Epoch 23/30\n",
      "46/46 [==============================] - 8s 177ms/step - loss: 0.1446 - accuracy: 0.9651 - val_loss: 0.0501 - val_accuracy: 0.9844\n",
      "Epoch 24/30\n",
      "46/46 [==============================] - 8s 177ms/step - loss: 0.1585 - accuracy: 0.9569 - val_loss: 0.0990 - val_accuracy: 0.9625\n",
      "Epoch 25/30\n",
      "46/46 [==============================] - 8s 177ms/step - loss: 0.1288 - accuracy: 0.9651 - val_loss: 0.0825 - val_accuracy: 0.9734\n",
      "Epoch 26/30\n",
      "46/46 [==============================] - 8s 185ms/step - loss: 0.1170 - accuracy: 0.9645 - val_loss: 0.0984 - val_accuracy: 0.9688\n",
      "Epoch 27/30\n",
      "46/46 [==============================] - 8s 186ms/step - loss: 0.1082 - accuracy: 0.9672 - val_loss: 0.0660 - val_accuracy: 0.9766\n",
      "Epoch 28/30\n",
      "46/46 [==============================] - 9s 187ms/step - loss: 0.0976 - accuracy: 0.9692 - val_loss: 0.0615 - val_accuracy: 0.9797\n",
      "Epoch 29/30\n",
      "46/46 [==============================] - 8s 183ms/step - loss: 0.1063 - accuracy: 0.9672 - val_loss: 0.0429 - val_accuracy: 0.9875\n",
      "Epoch 30/30\n",
      "46/46 [==============================] - 9s 187ms/step - loss: 0.0883 - accuracy: 0.9809 - val_loss: 0.0751 - val_accuracy: 0.9734\n"
     ]
    },
    {
     "data": {
      "text/plain": [
       "<tensorflow.python.keras.callbacks.History at 0x21190bc9880>"
      ]
     },
     "execution_count": 12,
     "metadata": {},
     "output_type": "execute_result"
    }
   ],
   "source": [
    "#model.fit_generator(x_train, steps_per_epoch = no:ofimagesintrainset/batchsize, epoch = 10, validation_data = x_test, validation_steps = no:ofimagesintestset/batchsize)\n",
    "# batch size is 32\n",
    "#1495/32 = 47 , 640/32 = 20\n",
    "\n",
    "model.fit_generator(x_train, steps_per_epoch =1495//32 , epochs = 30, validation_data = x_test, validation_steps = 640//32)"
   ]
  },
  {
   "cell_type": "code",
   "execution_count": 13,
   "id": "5e0454cb",
   "metadata": {},
   "outputs": [],
   "source": [
    "model.save(\"animal.h5\")"
   ]
  },
  {
   "cell_type": "code",
   "execution_count": null,
   "id": "e5c2a53f",
   "metadata": {},
   "outputs": [],
   "source": []
  }
 ],
 "metadata": {
  "kernelspec": {
   "display_name": "Python 3",
   "language": "python",
   "name": "python3"
  },
  "language_info": {
   "codemirror_mode": {
    "name": "ipython",
    "version": 3
   },
   "file_extension": ".py",
   "mimetype": "text/x-python",
   "name": "python",
   "nbconvert_exporter": "python",
   "pygments_lexer": "ipython3",
   "version": "3.8.8"
  }
 },
 "nbformat": 4,
 "nbformat_minor": 5
}
